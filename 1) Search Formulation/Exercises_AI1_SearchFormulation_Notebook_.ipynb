{
 "cells": [
  {
   "cell_type": "markdown",
   "metadata": {},
   "source": [
    "# Artificial Intelligence\n",
    "## L.EIC – 3rd Year/2nd Semester\n",
    "### Exercise Sheet 1\n",
    "# Solving Problems by Searching"
   ]
  },
  {
   "cell_type": "markdown",
   "metadata": {},
   "source": [
    "## The Two Buckets Problem\n",
    "\n",
    "<img src=\"https://qph.cf2.quoracdn.net/main-qimg-45726b16b460cae0147ae8ca245a8fb0-pjlq\" width=\"250px\" height=\"250px\" align=\"right\">\n",
    "\n",
    "Two buckets of capacities **c1** (e.g. 4 liters) and **c2** (e.g. 3 liters), respectively, are initially empty. The buckets do not have any intermediate markings. The only operations you can perform are:\n",
    "\n",
    "- Fill (completely) a bucket \n",
    "- Empty a bucket.\n",
    "- Pour one bucket into the other (until the target one is full or the source one is empty).\n",
    "\n",
    "The aim is to determine which operations to carry out so that the first bucket contains exactly **n** liters (e.g. 2 litres)."
   ]
  },
  {
   "cell_type": "markdown",
   "metadata": {},
   "source": [
    "Formulate this problem as a search problem by defining the state representation, initial state, operators (their name, preconditions, effects, and cost), and objective test."
   ]
  },
  {
   "cell_type": "markdown",
   "metadata": {},
   "source": [
    "### State Representation\n",
    "[W1/W2] W1:0..c1, W2:0..c2\n",
    "\n",
    "### Initial State\n",
    "[0,0]\n",
    "\n",
    "### Operators (Name, Preconditions, Effects, Cost)\n",
    "- Fill: \n",
    "  - Preconditions: The container is not full.\n",
    "  - Effects: The container is full.\n",
    "  - Cost: 1\n",
    "- Empty:\n",
    "  - Preconditions: The container is not empty.\n",
    "  - Effects: The container is empty.\n",
    "  - Cost: 1\n",
    "- Pour:\n",
    "  - Preconditions: The source container is not empty and the target container is not full.\n",
    "  - Effects: The source container is empty and the target container is full.\n",
    "  - Cost: 1\n",
    "\n",
    "### Objective Test\n",
    "[n, _]\n",
    "\n",
    "\n"
   ]
  },
  {
   "cell_type": "markdown",
   "metadata": {},
   "source": [
    "What is the size of the state space for this problem? Represent the state space by drawing the possible objective states and displaying some of the possible transitions from the initial state."
   ]
  },
  {
   "cell_type": "markdown",
   "metadata": {},
   "source": [
    "### Where c1 and c2 are whole numbers, the size of the state space is (c1+1)*(c2+1)."
   ]
  },
  {
   "cell_type": "markdown",
   "metadata": {},
   "source": [
    "Solve the problem by hand, using tree search. What solutions have you found?"
   ]
  },
  {
   "cell_type": "markdown",
   "metadata": {},
   "source": [
    "<img src=\"./imgs/tree.png\" alt=\"Tree image\" />"
   ]
  },
  {
   "cell_type": "markdown",
   "metadata": {},
   "source": [
    "### Buildind a computational approach to handle the problem\n",
    "\n",
    "To build a program to solve the buckets problem, we will implement a solution that separates the problem definition from the algorithms used to traverse the state space. This way, we can reuse our implementations of the search strategies in other problems."
   ]
  },
  {
   "cell_type": "markdown",
   "metadata": {},
   "source": [
    "#### Representing the two buckets problem as a search problem\n",
    "\n",
    "Let's start by defining a state for the buckets problem. For that, it'll suffice to aggregate two quantities, each representing the amount of water in one of the buckets. We also define a way of printing the state."
   ]
  },
  {
   "cell_type": "code",
   "execution_count": 1,
   "metadata": {},
   "outputs": [],
   "source": [
    "from typing import Optional\n",
    "\n",
    "class BucketState:\n",
    "    c1 = 4   # capacity for bucket 1\n",
    "    c2 = 3   # capacity for bucket 2\n",
    "    IDEAL_BUCKET_1 = 2\n",
    "    \n",
    "    def __init__(self, b1, b2):\n",
    "        self.b1 = b1\n",
    "        self.b2 = b2\n",
    "\n",
    "    '''needed for the visited list'''\n",
    "    def __eq__(self, other):\n",
    "        if isinstance(other, self.__class__):\n",
    "            return self.__dict__ == other.__dict__\n",
    "        else:\n",
    "            return False\n",
    "\n",
    "    def __ne__(self, other):\n",
    "        \"\"\"Overrides the default implementation (unnecessary in Python 3)\"\"\"\n",
    "        return not self.__eq__(other)\n",
    "    \n",
    "    def __hash__(self):\n",
    "        return hash((self.b1, self.b2)) \n",
    "    ''' - '''\n",
    "\n",
    "    def __str__(self):\n",
    "        return \"(\" + str(self.b1) + \", \" + str(self.b2) + \")\""
   ]
  },
  {
   "cell_type": "markdown",
   "metadata": {},
   "source": [
    "Now we define each of the operators on states:"
   ]
  },
  {
   "cell_type": "code",
   "execution_count": 2,
   "metadata": {},
   "outputs": [],
   "source": [
    "# emptying the first bucket\n",
    "def empty1(state: BucketState)->Optional[BucketState]:\n",
    "    \"\"\"Empty the first bucket\n",
    "\n",
    "    Args:\n",
    "        state (BucketState): State of the buckets\n",
    "\n",
    "    Returns:\n",
    "        BucketState|None: New state of the buckets or None if the bucket is already empty\n",
    "    \"\"\"\n",
    "    if state.b1 > 0:\n",
    "        return BucketState(0, state.b2)\n",
    "    return None\n",
    "\n",
    "# emptying the second bucket\n",
    "def empty2(state: BucketState)->Optional[BucketState]:\n",
    "    \"\"\"Empty the second bucket\n",
    "\n",
    "    Args:\n",
    "        state (BucketState): State of the buckets\n",
    "\n",
    "    Returns:\n",
    "        BucketState|None: New state of the buckets or None if the bucket is already empty\n",
    "    \"\"\"\n",
    "    if state.b2 > 0:\n",
    "        return BucketState(state.b1, 0)\n",
    "    return None\n",
    "    \n",
    "\n",
    "# Fill the first bucket\n",
    "def fill1(state: BucketState)->Optional[BucketState]:\n",
    "    \"\"\"Fill the first bucket\n",
    "\n",
    "    Args:\n",
    "        state (BucketState): State of the buckets\n",
    "\n",
    "    Returns:\n",
    "        BucketState|None: New state of the buckets or None if the bucket is already full\n",
    "    \"\"\"\n",
    "    if state.b1 < BucketState.c1:\n",
    "        return BucketState(BucketState.c1, state.b2)\n",
    "    return None\n",
    "\n",
    "\n",
    "# Fill the second bucket\n",
    "def fill2(state: BucketState)->Optional[BucketState]:\n",
    "    \"\"\"Fill the second bucket\n",
    "\n",
    "    Args:\n",
    "        state (BucketState): State of the buckets\n",
    "\n",
    "    Returns:\n",
    "        BucketState|None: New state of the buckets or None if the bucket is already full\n",
    "    \"\"\"\n",
    "    if state.b2 < BucketState.c2:\n",
    "        return BucketState(state.b1, BucketState.c2)\n",
    "    return None\n",
    "\n",
    "# Pour from the first bucket to the second and fill the second\n",
    "def pour12_fill2(state: BucketState)->Optional[BucketState]:\n",
    "    \"\"\"Pour from the first bucket to the second and fill the second\n",
    "\n",
    "    Args:\n",
    "        state (BucketState): State of the buckets\n",
    "\n",
    "    Returns:\n",
    "        BucketState|None: New state of the buckets or None if the first bucket is empty or the second is full\n",
    "    \"\"\"\n",
    "    if state.b1 > 0 and state.b2 < BucketState.c2 and state.b1 >= BucketState.c2 - state.b2:\n",
    "        diff = abs(BucketState.c2 - state.b2)\n",
    "        return BucketState(state.b1 - diff, BucketState.c2)\n",
    "    return None\n",
    "\n",
    "\n",
    "# Pour from first to second and empty 1\n",
    "def pour12_empty1(state: BucketState)->Optional[BucketState]:\n",
    "    \"\"\"Pour from first to second and empty 1\n",
    "\n",
    "    Args:\n",
    "        state (BucketState): State of the buckets\n",
    "\n",
    "    Returns:\n",
    "        BucketState|None: New state of the buckets or None if the first bucket is empty or the second is full\n",
    "    \"\"\"\n",
    "    if state.b1 > 0 and state.b2 < BucketState.c2 and state.b1 < BucketState.c2-state.b2:\n",
    "       \n",
    "        return BucketState(0, state.b1 + state.b2)\n",
    "    return None\n",
    "\n",
    "\n",
    "# Pour second to first and fill 1\n",
    "def pour21_fill1(state: BucketState)->Optional[BucketState]:\n",
    "    \"\"\"Pour second to first and fill 1\n",
    "\n",
    "    Args:\n",
    "        state (BucketState): State of the buckets\n",
    "\n",
    "    Returns:\n",
    "        BucketState|None: New state of the buckets or None if the second bucket is empty or the first is full\n",
    "    \"\"\"\n",
    "    if state.b2 > 0 and state.b1 < BucketState.c1 and state.b2 >= BucketState.c1 - state.b1:\n",
    "        diff = abs(BucketState.c1 - state.b1)\n",
    "        return BucketState(BucketState.c1, state.b2 - diff)\n",
    "    return None\n",
    "\n",
    "\n",
    "# Pour second to first and empty 2\n",
    "def pour21_empty2(state: BucketState)->Optional[BucketState]:\n",
    "    \"\"\"Pour second to first and empty 2\n",
    "\n",
    "    Args:\n",
    "        state (BucketState): State of the buckets\n",
    "\n",
    "    Returns:\n",
    "        BucketState|None: New state of the buckets or None if the second bucket is empty or the first is full\n",
    "    \"\"\"\n",
    "    if state.b2 > 0 and state.b1 < BucketState.c1 and state.b2 < BucketState.c1-state.b1:\n",
    "        return BucketState(state.b1 + state.b2, 0)\n",
    "    return None\n"
   ]
  },
  {
   "cell_type": "markdown",
   "metadata": {},
   "source": [
    "The following function will aggregate all states that can be generated from a given one:"
   ]
  },
  {
   "cell_type": "code",
   "execution_count": 3,
   "metadata": {},
   "outputs": [],
   "source": [
    "def child_bucket_states(state):\n",
    "    new_states = []\n",
    "    if(empty1(state)):\n",
    "        new_states.append(empty1(state))\n",
    "    if(empty2(state)):\n",
    "        new_states.append(empty2(state))\n",
    "    if(fill1(state)):\n",
    "        new_states.append(fill1(state))\n",
    "    if(fill2(state)):\n",
    "        new_states.append(fill2(state))\n",
    "    if(pour12_fill2(state)):\n",
    "        new_states.append(pour12_fill2(state))\n",
    "    if(pour12_empty1(state)):\n",
    "        new_states.append(pour12_empty1(state))\n",
    "    if(pour21_fill1(state)):\n",
    "        new_states.append(pour21_fill1(state))\n",
    "    if(pour21_empty2(state)):\n",
    "        new_states.append(pour21_empty2(state))\n",
    "    return new_states"
   ]
  },
  {
   "cell_type": "markdown",
   "metadata": {},
   "source": [
    "Play around with the state transition operators and check if they are working properly:"
   ]
  },
  {
   "cell_type": "code",
   "execution_count": 4,
   "metadata": {},
   "outputs": [
    {
     "name": "stdout",
     "output_type": "stream",
     "text": [
      "\n",
      "Filling 1\n",
      "(4, 0)\n",
      "\n",
      "Fill 2\n",
      "(4, 3)\n",
      "\n",
      "Empty 2\n",
      "(4, 0)\n",
      "\n",
      "Pour 1 into 2 and fill 2\n",
      "(1, 3)\n",
      "\n",
      "Empty 1\n",
      "(0, 3)\n",
      "\n",
      "Pour 2 into 1 and empty 2\n",
      "(3, 0)\n",
      "\n",
      "Pour 1 into 2 and empty 1\n",
      "None\n"
     ]
    },
    {
     "data": {
      "text/plain": [
       "[<__main__.BucketState at 0x7d7a5c145870>,\n",
       " <__main__.BucketState at 0x7d7a5c145c30>]"
      ]
     },
     "execution_count": 4,
     "metadata": {},
     "output_type": "execute_result"
    }
   ],
   "source": [
    "s = BucketState(0, 0)\n",
    "s = fill1(s)\n",
    "print('\\nFilling 1')\n",
    "print(s)\n",
    "\n",
    "print('\\nFill 2')\n",
    "s = fill2(s)\n",
    "print(s)\n",
    "\n",
    "print('\\nEmpty 2')\n",
    "s = empty2(s)\n",
    "print(s)\n",
    "\n",
    "print('\\nPour 1 into 2 and fill 2')\n",
    "s = pour12_fill2(s)\n",
    "print(s)\n",
    "\n",
    "print('\\nEmpty 1')\n",
    "s = empty1(s)\n",
    "print(s)\n",
    "\n",
    "print('\\nPour 2 into 1 and empty 2')\n",
    "s = pour21_empty2(s)\n",
    "print(s)\n",
    "\n",
    "print('\\nPour 1 into 2 and empty 1')\n",
    "s = pour12_empty1(s)\n",
    "print(s)\n",
    "\n",
    "\n",
    "child_bucket_states(BucketState(0, 0))\n",
    "\n",
    "\n",
    "# your code here\n"
   ]
  },
  {
   "cell_type": "markdown",
   "metadata": {},
   "source": [
    "Finally, we need to define the goal condition:"
   ]
  },
  {
   "cell_type": "code",
   "execution_count": 5,
   "metadata": {},
   "outputs": [],
   "source": [
    "def goal_bucket_state(state):\n",
    "    if state.b1 == BucketState.IDEAL_BUCKET_1:\n",
    "        return True\n",
    "    return False\n",
    "    "
   ]
  },
  {
   "cell_type": "markdown",
   "metadata": {},
   "source": [
    "Test your goal condition:"
   ]
  },
  {
   "cell_type": "code",
   "execution_count": 6,
   "metadata": {},
   "outputs": [
    {
     "name": "stdout",
     "output_type": "stream",
     "text": [
      "True\n",
      "False\n",
      "True\n",
      "False\n",
      "True\n"
     ]
    }
   ],
   "source": [
    "# Test goal condition\n",
    "print(goal_bucket_state(BucketState(2, 0)))\n",
    "print(goal_bucket_state(BucketState(0, 2)))\n",
    "print(goal_bucket_state(BucketState(2, 2)))\n",
    "print(goal_bucket_state(BucketState(1, 2)))\n",
    "print(goal_bucket_state(BucketState(2, 1)))"
   ]
  },
  {
   "cell_type": "markdown",
   "metadata": {},
   "source": [
    "#### Implementing search algorithms\n",
    "\n",
    "Let us start by defining an appropriate structure to represent a node in a search tree. Each tree node will include:\n",
    "- a state of the problem\n",
    "- a link to its parent (to allow traveling from a leaf node towards the root of the tree)\n",
    "- a list of child nodes"
   ]
  },
  {
   "cell_type": "code",
   "execution_count": 7,
   "metadata": {},
   "outputs": [],
   "source": [
    "# A generic definition of a tree node holding a state of the problem\n",
    "class TreeNode:\n",
    "    def __init__(self, state, parent=None):\n",
    "        self.state = state\n",
    "        self.parent = parent\n",
    "        self.children = []\n",
    "        if self.parent is None:\n",
    "            self.depth = 0\n",
    "        else:\n",
    "            self.depth = self.parent.depth + 1\n",
    "            \n",
    "\n",
    "    def add_child(self, child_node):\n",
    "        self.children.append(child_node)\n",
    "        child_node.parent = self"
   ]
  },
  {
   "cell_type": "markdown",
   "metadata": {},
   "source": [
    "##### Breadth-first search\n",
    "\n",
    "Based on this structure, we can now implement breadth-first search. Note that we want the implementation to be independent of the problem at hand (in this case, the two buckets problem)."
   ]
  },
  {
   "cell_type": "code",
   "execution_count": 8,
   "metadata": {},
   "outputs": [],
   "source": [
    "from collections import deque\n",
    "\n",
    "def breadth_first_search(initial_state, goal_state_func, operators_func):\n",
    "    root = TreeNode(initial_state)   # create the root node in the search tree\n",
    "    queue = deque([root])   # initialize the queue to store the nodes\n",
    "    \n",
    "    while queue:\n",
    "        node = queue.popleft()   # get first element in the queue\n",
    "        if goal_state_func(node.state):   # check goal state\n",
    "            return node\n",
    "        \n",
    "        for state in operators_func(node.state):   # go through next states\n",
    "            # create tree node with the new state\n",
    "            child_node = TreeNode(state=state, parent=node)\n",
    "            \n",
    "            # link child node to its parent in the tree\n",
    "            node.add_child(child_node)\n",
    "            \n",
    "            # enqueue the child node\n",
    "            queue.append(child_node)\n",
    "            \n",
    "\n",
    "    return None"
   ]
  },
  {
   "cell_type": "markdown",
   "metadata": {},
   "source": [
    "We can now use this function to actually perform a breadth-first search on the buckets problem: we pass it the initial state, our goal condition function, and the function for obtaining child states."
   ]
  },
  {
   "cell_type": "code",
   "execution_count": 9,
   "metadata": {},
   "outputs": [
    {
     "name": "stdout",
     "output_type": "stream",
     "text": [
      "(2, 3)\n"
     ]
    }
   ],
   "source": [
    "goal = breadth_first_search(BucketState(0,0), \n",
    "                            goal_bucket_state, \n",
    "                            child_bucket_states)\n",
    "print(goal.state)"
   ]
  },
  {
   "cell_type": "markdown",
   "metadata": {},
   "source": [
    "In order to print the actual steps from the initial state to the last, we can take advantage of each node's link to its parent."
   ]
  },
  {
   "cell_type": "code",
   "execution_count": 10,
   "metadata": {},
   "outputs": [],
   "source": [
    "# Print the solution's steps\n",
    "def print_solution(node):\n",
    "    if node.parent is not None:\n",
    "        print_solution(node.parent)\n",
    "    print(node.state)"
   ]
  },
  {
   "cell_type": "markdown",
   "metadata": {},
   "source": [
    "Now we can print the solution:"
   ]
  },
  {
   "cell_type": "code",
   "execution_count": 11,
   "metadata": {},
   "outputs": [
    {
     "name": "stdout",
     "output_type": "stream",
     "text": [
      "(0, 0)\n",
      "(4, 0)\n",
      "(1, 3)\n",
      "(1, 0)\n",
      "(0, 1)\n",
      "(4, 1)\n",
      "(2, 3)\n"
     ]
    }
   ],
   "source": [
    "print_solution(goal)"
   ]
  },
  {
   "cell_type": "markdown",
   "metadata": {},
   "source": [
    "If we need a description for each of the employed operators, we could have each operation function return also such a description, and modify the TreeNode class so that each node also includes a description of the edge to get there. We leave that as an exercise after class."
   ]
  },
  {
   "cell_type": "markdown",
   "metadata": {},
   "source": [
    "##### Depth-first search\n",
    "\n",
    "Implement depth-first search (again, in a manner that is independent of the problem at hand). You can start from your breadth-first search implementation and with minor changes get an implementation for depth-first search."
   ]
  },
  {
   "cell_type": "code",
   "execution_count": 12,
   "metadata": {},
   "outputs": [],
   "source": [
    "def depth_first_search(initial_state, goal_state_func, operators_func):\n",
    "    root = TreeNode(initial_state)   # create the root node in the search tree\n",
    "    queue = deque([root])   # initialize the queue to store the nodes\n",
    "    visited = set([initial_state]) # To avoid loops\n",
    "\n",
    "    while queue:\n",
    "        node = queue.pop()\n",
    "        if goal_state_func(node.state):\n",
    "            return node\n",
    "\n",
    "        for state in operators_func(node.state):\n",
    "            if state not in visited:\n",
    "                visited.add(state)\n",
    "                child_node = TreeNode(state=state, parent=node)\n",
    "                node.add_child(child_node)\n",
    "                queue.append(child_node)\n",
    "\n",
    "    return None\n",
    "    "
   ]
  },
  {
   "cell_type": "markdown",
   "metadata": {},
   "source": [
    "Test it on the two buckets problem."
   ]
  },
  {
   "cell_type": "code",
   "execution_count": 13,
   "metadata": {},
   "outputs": [
    {
     "name": "stdout",
     "output_type": "stream",
     "text": [
      "(0, 0)\n",
      "(0, 3)\n",
      "(3, 0)\n",
      "(3, 3)\n",
      "(4, 2)\n",
      "(0, 2)\n",
      "(2, 0)\n"
     ]
    }
   ],
   "source": [
    "goal = depth_first_search(BucketState(0,0),goal_bucket_state, child_bucket_states)\n",
    "print_solution(goal)\n"
   ]
  },
  {
   "cell_type": "markdown",
   "metadata": {},
   "source": [
    "If you are unable to get a solution, think about it: depth-first search is not a complete search method, and one of the reasons for that is if the state space contains cycles. As such, you need to make sure you avoid entering into a cycle by keeping a visited nodes list or set and checking that list whenever you generate a new state."
   ]
  },
  {
   "cell_type": "markdown",
   "metadata": {},
   "source": [
    "##### Depth-limited search\n",
    "\n",
    "Another way to make it work is to impose a depth limit to the problem. Implement depth-limited search."
   ]
  },
  {
   "cell_type": "code",
   "execution_count": 14,
   "metadata": {},
   "outputs": [],
   "source": [
    "def depth_limited_search(initial_state, goal_state_func, operators_func, depth_limit):\n",
    "    root = TreeNode(initial_state)   # create the root node in the search tree\n",
    "\n",
    "    # Inner recursive function\n",
    "    def sub_dfs(node, depth):\n",
    "        if goal_state_func(node.state):\n",
    "            return node\n",
    "        if depth == depth_limit:\n",
    "            return None\n",
    "\n",
    "        for state in operators_func(node.state):\n",
    "            child_node = TreeNode(state=state, parent=node)\n",
    "            result = sub_dfs(child_node, depth+1)\n",
    "            if result is not None:\n",
    "                return result\n",
    "\n",
    "    # Call the inner function with the root node and initial depth\n",
    "    return sub_dfs(root, 0)"
   ]
  },
  {
   "cell_type": "markdown",
   "metadata": {},
   "source": [
    "Test it on the two buckets problem."
   ]
  },
  {
   "cell_type": "code",
   "execution_count": 15,
   "metadata": {},
   "outputs": [
    {
     "name": "stdout",
     "output_type": "stream",
     "text": [
      "(0, 0)\n",
      "(4, 0)\n",
      "(1, 3)\n",
      "(1, 0)\n",
      "(0, 1)\n",
      "(4, 1)\n",
      "(2, 3)\n"
     ]
    }
   ],
   "source": [
    "goal = depth_limited_search(BucketState(0,0),goal_bucket_state, child_bucket_states, 7)\n",
    "print_solution(goal)"
   ]
  },
  {
   "cell_type": "markdown",
   "metadata": {},
   "source": [
    "##### Iterative deepening search\n",
    "\n",
    "Based on depth-limited, you can easily implement iterative-deepening search."
   ]
  },
  {
   "cell_type": "code",
   "execution_count": 16,
   "metadata": {},
   "outputs": [],
   "source": [
    "def iterative_deepening_search(initial_state, goal_state_func, operators_func, depth_limit):\n",
    "    for depth in range(depth_limit):\n",
    "        result = depth_limited_search(initial_state, goal_state_func, operators_func, depth)\n",
    "        if result is not None:\n",
    "            return result\n",
    "    return None"
   ]
  },
  {
   "cell_type": "markdown",
   "metadata": {},
   "source": [
    "Again, test it on the two buckets problem."
   ]
  },
  {
   "cell_type": "code",
   "execution_count": 17,
   "metadata": {},
   "outputs": [
    {
     "name": "stdout",
     "output_type": "stream",
     "text": [
      "(0, 0)\n",
      "(4, 0)\n",
      "(1, 3)\n",
      "(1, 0)\n",
      "(0, 1)\n",
      "(4, 1)\n",
      "(2, 3)\n"
     ]
    }
   ],
   "source": [
    "goal = iterative_deepening_search(BucketState(0,0),goal_bucket_state, child_bucket_states, 10)\n",
    "print_solution(goal)"
   ]
  },
  {
   "cell_type": "markdown",
   "metadata": {},
   "source": [
    "## The Missionaries and Cannibals Problem \n",
    "\n",
    "<img src=\"https://allfish24.files.wordpress.com/2016/09/gambar-1.jpg\">\n",
    "\n",
    "Three missionaries and three cannibals are on one of the banks of the river with a boat that only takes one or two people. The boat cannot travel the river alone.\n",
    "\n",
    "The goal is to find a way to get the six to the other bank of the river without ever leaving more cannibals than missionaries on one of the banks (even at the instant they leave/join the boat) during the process."
   ]
  },
  {
   "cell_type": "markdown",
   "metadata": {},
   "source": [
    "Formulate this problem as a search problem by defining the state representation, initial state, operators (their name, preconditions, effects, and cost), and objective test."
   ]
  },
  {
   "cell_type": "raw",
   "metadata": {},
   "source": [
    "\n",
    "\n"
   ]
  },
  {
   "cell_type": "markdown",
   "metadata": {},
   "source": [
    "Solve the problem by hand, using tree search. What solutions have you found?"
   ]
  },
  {
   "cell_type": "raw",
   "metadata": {},
   "source": [
    "\n",
    "\n"
   ]
  },
  {
   "cell_type": "markdown",
   "metadata": {},
   "source": [
    "Represent the problem as a search problem and take advantage of the implemented search algorithms to find solutions!"
   ]
  },
  {
   "cell_type": "code",
   "execution_count": 18,
   "metadata": {},
   "outputs": [],
   "source": [
    "# your code here\n"
   ]
  }
 ],
 "metadata": {
  "kernelspec": {
   "display_name": "Python 3 (ipykernel)",
   "language": "python",
   "name": "python3"
  },
  "language_info": {
   "codemirror_mode": {
    "name": "ipython",
    "version": 3
   },
   "file_extension": ".py",
   "mimetype": "text/x-python",
   "name": "python",
   "nbconvert_exporter": "python",
   "pygments_lexer": "ipython3",
   "version": "3.10.12"
  }
 },
 "nbformat": 4,
 "nbformat_minor": 4
}
